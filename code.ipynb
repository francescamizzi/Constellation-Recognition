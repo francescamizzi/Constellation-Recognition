{
 "cells": [
  {
   "cell_type": "code",
   "execution_count": 75,
   "metadata": {},
   "outputs": [],
   "source": [
    "import cv2\n",
    "import numpy as np\n",
    "from matplotlib import pyplot as plt\n",
    "import os\n",
    "import math\n",
    "import random\n",
    "import imutils\n",
    "from datetime import datetime"
   ]
  },
  {
   "cell_type": "markdown",
   "metadata": {},
   "source": [
    "Get templates"
   ]
  },
  {
   "cell_type": "code",
   "execution_count": 56,
   "metadata": {},
   "outputs": [],
   "source": [
    "def get_templates():\n",
    "    templates = {}\n",
    "    for x in os.listdir(\"small_templates\"):\n",
    "        templates[x] = cv2.imread(\"small_templates/\" + x)\n",
    "    \n",
    "    template_labels = []   \n",
    "    c=0\n",
    "    for t in templates:\n",
    "        templates[t] = cv2.cvtColor(templates[t], cv2.COLOR_BGR2GRAY) # convert to grey\n",
    "        templates[t] = cv2.medianBlur(templates[t],5) # blur\n",
    "        templates[t] = cv2.Canny(templates[t], 50, 200, apertureSize = 3) # edge detection\n",
    "        \n",
    "        template_labels.append((c,templates[t]))\n",
    "        c+=1\n",
    "    return template_labels\n",
    "        \n",
    "        \n",
    "#         cv2.imshow(\"labels\", template_labels[c][1])\n",
    "#         cv2.waitKey(0)\n",
    "\n",
    "#         print(template_labels[c][0])\n",
    "\n",
    "#         cv2.imshow(\"templates\", templates[t])\n",
    "#         cv2.waitKey(0)\n",
    "        "
   ]
  },
  {
   "cell_type": "markdown",
   "metadata": {},
   "source": [
    "Get images"
   ]
  },
  {
   "cell_type": "code",
   "execution_count": 80,
   "metadata": {},
   "outputs": [],
   "source": [
    "def get_images():\n",
    "    images = {}\n",
    "    for x in os.listdir(\"raw\"):\n",
    "        images[x] = cv2.imread(\"raw/\" + x)\n",
    "\n",
    "    image_labels = []   \n",
    "    c=0\n",
    "    for i in images:        \n",
    "        image_labels.append((c,images[i]))\n",
    "        c+=1\n",
    "\n",
    "#         cv2.imshow(\"images\", images[i])\n",
    "#         cv2.waitKey(0)\n",
    "        \n",
    "    return image_labels"
   ]
  },
  {
   "cell_type": "markdown",
   "metadata": {},
   "source": [
    "Skew images"
   ]
  },
  {
   "cell_type": "code",
   "execution_count": 60,
   "metadata": {},
   "outputs": [],
   "source": [
    "def skew_images(raw):\n",
    "#     filtered = [item[1] for item in raw]\n",
    "#     filtered_labels = [item[0] for item in raw]\n",
    "#     print(filtered_labels)\n",
    "    data = []\n",
    "    for photo in raw:\n",
    "        for x in range(5):\n",
    "            new = photo[1].copy()\n",
    "            row, col, _ = new.shape\n",
    "\n",
    "            kvalue = random.randint(1,6)\n",
    "            ksize = (kvalue,kvalue)\n",
    "            blurred = cv2.blur(new,ksize)\n",
    "\n",
    "            number_of_pixels = random.randint(300, 10000)\n",
    "            for i in range(number_of_pixels):\n",
    "\n",
    "                y_coord=random.randint(0, row - 1)\n",
    "\n",
    "                x_coord=random.randint(0, col - 1)\n",
    "\n",
    "                blurred[y_coord][x_coord] = 255\n",
    "\n",
    "            number_of_pixels = random.randint(300 , 10000)\n",
    "            for i in range(number_of_pixels):\n",
    "\n",
    "                y_coord=random.randint(0, row - 1)\n",
    "\n",
    "                x_coord=random.randint(0, col - 1)\n",
    "\n",
    "                blurred[y_coord][x_coord] = 0\n",
    "                \n",
    "            data.append((photo[0],blurred))\n",
    "            \n",
    "        \n",
    "        \n",
    "#     for photo in data:\n",
    "#         cv2.imshow(\"skewed\", photo[1])\n",
    "#         cv2.waitKey(0)\n",
    "        \n",
    "    return data\n",
    "        \n",
    "    \n",
    "\n",
    "\n",
    "\n",
    "# median1 = cv2.medianBlur(filtered,5)\n",
    "\n",
    "# # edge detection\n",
    "# edges1 = cv2.Canny(median, 50, 200, apertureSize = 3)\n",
    "\n",
    "\n",
    "\n",
    "# cv2.imshow(\"Template\", blurred)\n",
    "# cv2.waitKey(0)"
   ]
  },
  {
   "cell_type": "code",
   "execution_count": 62,
   "metadata": {},
   "outputs": [],
   "source": [
    "def filter_images(data):\n",
    "    dataset = []\n",
    "    for photo in data:\n",
    "        temp = cv2.medianBlur(photo[1],5) # blur\n",
    "        temp = cv2.Canny(temp, 50, 200, apertureSize = 3) # edge detection\n",
    "        dataset.append((photo[0],temp))\n",
    "        \n",
    "#     for photo in dataset:\n",
    "#         cv2.imshow(\"test\", photo[1])\n",
    "#         cv2.waitKey(0)\n",
    "\n",
    "        \n",
    "    return dataset\n",
    "    "
   ]
  },
  {
   "cell_type": "code",
   "execution_count": 82,
   "metadata": {},
   "outputs": [],
   "source": [
    "def match(photo, template):\n",
    "    img = photo[1]\n",
    "    test = img.copy()\n",
    "    img_val = photo[0]\n",
    "    temp = template[1]\n",
    "    temp_val = template[0]\n",
    "    \n",
    "    result = cv2.matchTemplate(img, temp, cv2.TM_CCOEFF_NORMED)\n",
    "    (minVal, maxVal, minLoc, maxLoc) = cv2.minMaxLoc(result)\n",
    "\n",
    "    (startX, startY) = maxLoc\n",
    "    endX = startX + temp.shape[1]\n",
    "    endY = startY + temp.shape[0]\n",
    "\n",
    "    \n",
    "\n",
    "    threshold = 0.4\n",
    "    flag = False\n",
    "    if np.amax(result) > threshold:\n",
    "        flag = True\n",
    "#         cv2.rectangle(test, (startX, startY), (endX, endY), (255, 0, 0), 3)\n",
    "#         cv2.imshow(\"test\", test)\n",
    "#         cv2.waitKey(0)\n",
    "        \n",
    "#     print(flag)\n",
    "#     print(\"Img Val: \"+str(img_val))\n",
    "#     print(\"Temp Val: \"+str(temp_val))\n",
    "    \n",
    "    return flag, img_val, temp_val\n",
    "\n",
    "#     cv2.imshow(\"Output\", new)\n",
    "#     cv2.waitKey(0)\n",
    "\n",
    "#     return flag"
   ]
  },
  {
   "cell_type": "code",
   "execution_count": 85,
   "metadata": {},
   "outputs": [
    {
     "name": "stdout",
     "output_type": "stream",
     "text": [
      "Correct: 28\n",
      "Should be correct: 7\n",
      "Wrong: 12\n",
      "Total: 245\n",
      "Time taken: 0:00:17.950126\n"
     ]
    }
   ],
   "source": [
    "start = datetime.now()\n",
    "\n",
    "template_labels = get_templates()\n",
    "image_labels = get_images()\n",
    "data = skew_images(image_labels)\n",
    "dataset = filter_images(data)\n",
    "\n",
    "correct = 0\n",
    "should_be_true = 0\n",
    "wrong = 0\n",
    "total = 0\n",
    "for photo in dataset:\n",
    "    for t in template_labels:\n",
    "        flag, img_val, temp_val = match(photo,t)\n",
    "        if flag == True and img_val == temp_val:\n",
    "            correct+=1\n",
    "        elif flag == False and img_val == temp_val:\n",
    "            should_be_true+=1\n",
    "        elif flag == True and img_val != temp_val:\n",
    "            wrong+=1\n",
    "        total+=1\n",
    "end = datetime.now()\n",
    "        \n",
    "print(\"Correct: \"+str(correct))\n",
    "print(\"Should be correct: \"+str(should_be_true))\n",
    "print(\"Wrong: \"+str(wrong))\n",
    "print(\"Total: \"+str(total))\n",
    "print(\"Time taken: \"+str(end-start))"
   ]
  },
  {
   "cell_type": "code",
   "execution_count": null,
   "metadata": {},
   "outputs": [],
   "source": []
  }
 ],
 "metadata": {
  "kernelspec": {
   "display_name": "Python 3",
   "language": "python",
   "name": "python3"
  },
  "language_info": {
   "codemirror_mode": {
    "name": "ipython",
    "version": 3
   },
   "file_extension": ".py",
   "mimetype": "text/x-python",
   "name": "python",
   "nbconvert_exporter": "python",
   "pygments_lexer": "ipython3",
   "version": "3.8.5"
  }
 },
 "nbformat": 4,
 "nbformat_minor": 4
}
