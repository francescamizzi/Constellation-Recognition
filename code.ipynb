{
 "cells": [
  {
   "cell_type": "code",
   "execution_count": 1,
   "metadata": {},
   "outputs": [],
   "source": [
    "import cv2\n",
    "import numpy as np\n",
    "from matplotlib import pyplot as plt\n",
    "import os\n",
    "import math"
   ]
  },
  {
   "cell_type": "code",
   "execution_count": 33,
   "metadata": {},
   "outputs": [
    {
     "data": {
      "text/plain": [
       "-1"
      ]
     },
     "execution_count": 33,
     "metadata": {},
     "output_type": "execute_result"
    }
   ],
   "source": [
    "template = cv2.imread(\"small_templates/cassiopeia.png\")\n",
    "template = cv2.cvtColor(template, cv2.COLOR_BGR2GRAY)\n",
    "\n",
    "median = cv2.medianBlur(template,5)\n",
    "\n",
    "# edge detection\n",
    "edges = cv2.Canny(median, 50, 200, apertureSize = 3)\n",
    "ret, thresh = cv2.threshold(edges,0,255,cv2.THRESH_BINARY+cv2.THRESH_OTSU)\n",
    "# nb_components, output, stats, centroids = cv2.connectedComponentsWithStats(thresh, 4, cv2.CV_32S)\n",
    "\n",
    "# areas = []\n",
    "# for x in range(nb_components):\n",
    "#     areas.append((x,stats[x,cv2.CC_STAT_AREA]))\n",
    "    \n",
    "\n",
    "# sorted_by_second = sorted(areas, key=lambda tup: tup[1])\n",
    "# print(sorted_by_second)\n",
    "cv2.imshow(\"test\", thresh)\n",
    "cv2.waitKey(0)"
   ]
  },
  {
   "cell_type": "code",
   "execution_count": 34,
   "metadata": {},
   "outputs": [
    {
     "data": {
      "text/plain": [
       "-1"
      ]
     },
     "execution_count": 34,
     "metadata": {},
     "output_type": "execute_result"
    }
   ],
   "source": [
    "image = cv2.imread(\"raw/cassiopeia_empty.png\")\n",
    "image = cv2.cvtColor(image, cv2.COLOR_BGR2GRAY)\n",
    "\n",
    "median = cv2.medianBlur(image,5)\n",
    "\n",
    "# edge detection\n",
    "edges = cv2.Canny(median, 50, 200, apertureSize = 3)\n",
    "\n",
    "cv2.imshow(\"Template\", edges)\n",
    "cv2.waitKey(0)"
   ]
  },
  {
   "cell_type": "code",
   "execution_count": 37,
   "metadata": {},
   "outputs": [
    {
     "data": {
      "text/plain": [
       "-1"
      ]
     },
     "execution_count": 37,
     "metadata": {},
     "output_type": "execute_result"
    }
   ],
   "source": [
    "result = cv2.matchTemplate(image, thresh, cv2.TM_CCOEFF_NORMED)\n",
    "(minVal, maxVal, minLoc, maxLoc) = cv2.minMaxLoc(result)\n",
    "\n",
    "(startX, startY) = maxLoc\n",
    "endX = startX + template.shape[1]\n",
    "endY = startY + template.shape[0]\n",
    "\n",
    "cv2.rectangle(image, (startX, startY), (endX, endY), (255, 0, 0), 3)\n",
    "\n",
    "cv2.imshow(\"Output\", result)\n",
    "cv2.waitKey(0)"
   ]
  },
  {
   "cell_type": "code",
   "execution_count": null,
   "metadata": {},
   "outputs": [],
   "source": []
  }
 ],
 "metadata": {
  "kernelspec": {
   "display_name": "Python 3",
   "language": "python",
   "name": "python3"
  },
  "language_info": {
   "codemirror_mode": {
    "name": "ipython",
    "version": 3
   },
   "file_extension": ".py",
   "mimetype": "text/x-python",
   "name": "python",
   "nbconvert_exporter": "python",
   "pygments_lexer": "ipython3",
   "version": "3.8.5"
  }
 },
 "nbformat": 4,
 "nbformat_minor": 4
}
