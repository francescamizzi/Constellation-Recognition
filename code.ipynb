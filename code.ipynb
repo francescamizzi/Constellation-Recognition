{
 "cells": [
  {
   "cell_type": "code",
   "execution_count": 1,
   "metadata": {},
   "outputs": [],
   "source": [
    "import cv2\n",
    "import numpy as np\n",
    "from matplotlib import pyplot as plt\n",
    "import os\n",
    "import math\n",
    "import random"
   ]
  },
  {
   "cell_type": "markdown",
   "metadata": {},
   "source": [
    "Get templates"
   ]
  },
  {
   "cell_type": "code",
   "execution_count": 2,
   "metadata": {},
   "outputs": [
    {
     "data": {
      "text/plain": [
       "-1"
      ]
     },
     "execution_count": 2,
     "metadata": {},
     "output_type": "execute_result"
    }
   ],
   "source": [
    "template = cv2.imread(\"small_templates/cassiopeia.png\")\n",
    "template = cv2.cvtColor(template, cv2.COLOR_BGR2GRAY)\n",
    "\n",
    "median_temp = cv2.medianBlur(template,5)\n",
    "\n",
    "# edge detection\n",
    "edges_temp = cv2.Canny(median_temp, 50, 200, apertureSize = 3)\n",
    "\n",
    "\n",
    "cv2.imshow(\"test\", edges_temp)\n",
    "cv2.waitKey(0)"
   ]
  },
  {
   "cell_type": "markdown",
   "metadata": {},
   "source": [
    "Get images"
   ]
  },
  {
   "cell_type": "code",
   "execution_count": 3,
   "metadata": {},
   "outputs": [
    {
     "data": {
      "text/plain": [
       "-1"
      ]
     },
     "execution_count": 3,
     "metadata": {},
     "output_type": "execute_result"
    }
   ],
   "source": [
    "image = cv2.imread(\"raw/cassiopeia_empty.png\")\n",
    "image = cv2.cvtColor(image, cv2.COLOR_BGR2GRAY)\n",
    "\n",
    "median = cv2.medianBlur(image,5)\n",
    "\n",
    "# edge detection\n",
    "edges = cv2.Canny(median, 50, 200, apertureSize = 3)\n",
    "\n",
    "\n",
    "cv2.imshow(\"Template\", edges)\n",
    "cv2.waitKey(0)"
   ]
  },
  {
   "cell_type": "markdown",
   "metadata": {},
   "source": [
    "Skew images"
   ]
  },
  {
   "cell_type": "code",
   "execution_count": 11,
   "metadata": {},
   "outputs": [
    {
     "data": {
      "text/plain": [
       "-1"
      ]
     },
     "execution_count": 11,
     "metadata": {},
     "output_type": "execute_result"
    }
   ],
   "source": [
    "new = image.copy()\n",
    "row , col = new.shape\n",
    "\n",
    "kvalue = random.randint(1,6)\n",
    "ksize = (kvalue,kvalue)\n",
    "blurred = cv2.blur(edges1,ksize)\n",
    "\n",
    "number_of_pixels = random.randint(300, 10000)\n",
    "for i in range(number_of_pixels):\n",
    "\n",
    "    # Pick a random y coordinate\n",
    "    y_coord=random.randint(0, row - 1)\n",
    "\n",
    "    # Pick a random x coordinate\n",
    "    x_coord=random.randint(0, col - 1)\n",
    "\n",
    "    # Color that pixel to white\n",
    "    blurred[y_coord][x_coord] = 255\n",
    "\n",
    "# Randomly pick some pixels in\n",
    "# the image for coloring them black\n",
    "# Pick a random number between 300 and 10000\n",
    "number_of_pixels = random.randint(300 , 10000)\n",
    "for i in range(number_of_pixels):\n",
    "\n",
    "    # Pick a random y coordinate\n",
    "    y_coord=random.randint(0, row - 1)\n",
    "\n",
    "    # Pick a random x coordinate\n",
    "    x_coord=random.randint(0, col - 1)\n",
    "\n",
    "    # Color that pixel to black\n",
    "    blurred[y_coord][x_coord] = 0\n",
    "    \n",
    "def add_blur(image, x,y,hw):    \n",
    "    image[y:y+hw, x:x+hw,1] = image[y:y+hw, x:x+hw,1]+1    \n",
    "    image[:,:,1][image[:,:,1]>255]  = 255 ##Sets all values above 255 to 255    \n",
    "    image[y:y+hw, x:x+hw,1] = cv2.blur(image[y:y+hw, x:x+hw,1] ,(10,10))    \n",
    "    return image\n",
    "\n",
    "def generate_random_blur_coordinates(imshape,hw):    \n",
    "    blur_points=[]    \n",
    "    midx= imshape[1]//2-hw-100    \n",
    "    midy= imshape[0]//2-hw-100    \n",
    "    index=1    \n",
    "    while(midx>-100 or midy>-100): ## radially generating coordinates        \n",
    "        for i in range(250*index):            \n",
    "            x= np.random.randint(midx,imshape[1]-midx-hw)            \n",
    "            y= np.random.randint(midy,imshape[0]-midy-hw)            \n",
    "            blur_points.append((x,y))        \n",
    "            midx-=250*imshape[1]//sum(imshape)        \n",
    "            midy-=250*imshape[0]//sum(imshape)        \n",
    "            index+=1    \n",
    "    return blur_points   \n",
    "\n",
    "def add_fog(image):    \n",
    "    image_HLS = cv2.cvtColor(image,cv2.COLOR_RGB2HLS) ## Conversion to HLS    \n",
    "    mask = np.zeros_like(image)     \n",
    "    imshape = image.shape    \n",
    "    hw=100    \n",
    "    image_HLS[:,:,1]=image_HLS[:,:,1]*0.8    \n",
    "    haze_list= generate_random_blur_coordinates(imshape,hw)    \n",
    "    for haze_points in haze_list:         \n",
    "        image_HLS[:,:,1][image_HLS[:,:,1]>255]  = 255 ##Sets all values above 255 to 255        \n",
    "        image_HLS= add_blur(image_HLS, haze_points[0],haze_points[1], hw) ## adding all shadow polygons on empty mask, single 255 denotes only red channel    \n",
    "        image_RGB = cv2.cvtColor(image_HLS,cv2.COLOR_HLS2RGB) ## Conversion to RGB    \n",
    "    return image_RGB\n",
    "\n",
    "\n",
    "\n",
    "median1 = cv2.medianBlur(new,5)\n",
    "\n",
    "# edge detection\n",
    "edges1 = cv2.Canny(median, 50, 200, apertureSize = 3)\n",
    "\n",
    "\n",
    "\n",
    "cv2.imshow(\"Template\", blurred)\n",
    "cv2.waitKey(0)"
   ]
  },
  {
   "cell_type": "code",
   "execution_count": 12,
   "metadata": {},
   "outputs": [
    {
     "data": {
      "text/plain": [
       "-1"
      ]
     },
     "execution_count": 12,
     "metadata": {},
     "output_type": "execute_result"
    }
   ],
   "source": [
    "result = cv2.matchTemplate(edges1, edges_temp, cv2.TM_CCOEFF_NORMED)\n",
    "(minVal, maxVal, minLoc, maxLoc) = cv2.minMaxLoc(result)\n",
    "\n",
    "(startX, startY) = maxLoc\n",
    "endX = startX + edges_temp.shape[1]\n",
    "endY = startY + edges_temp.shape[0]\n",
    "\n",
    "cv2.rectangle(new, (startX, startY), (endX, endY), (255, 0, 0), 3)\n",
    "\n",
    "cv2.imshow(\"Output\", rotated)\n",
    "cv2.waitKey(0)"
   ]
  },
  {
   "cell_type": "code",
   "execution_count": null,
   "metadata": {},
   "outputs": [],
   "source": []
  }
 ],
 "metadata": {
  "kernelspec": {
   "display_name": "Python 3",
   "language": "python",
   "name": "python3"
  },
  "language_info": {
   "codemirror_mode": {
    "name": "ipython",
    "version": 3
   },
   "file_extension": ".py",
   "mimetype": "text/x-python",
   "name": "python",
   "nbconvert_exporter": "python",
   "pygments_lexer": "ipython3",
   "version": "3.8.5"
  }
 },
 "nbformat": 4,
 "nbformat_minor": 4
}
